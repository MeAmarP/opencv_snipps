{
  "nbformat": 4,
  "nbformat_minor": 0,
  "metadata": {
    "kernelspec": {
      "display_name": "Python 3",
      "language": "python",
      "name": "python3"
    },
    "language_info": {
      "codemirror_mode": {
        "name": "ipython",
        "version": 3
      },
      "file_extension": ".py",
      "mimetype": "text/x-python",
      "name": "python",
      "nbconvert_exporter": "python",
      "pygments_lexer": "ipython3",
      "version": "3.6.7"
    },
    "colab": {
      "name": "Helpful_Python_snippets_for_Image_Processing_using_OpenCV.ipynb",
      "provenance": [],
      "collapsed_sections": [],
      "include_colab_link": true
    }
  },
  "cells": [
    {
      "cell_type": "markdown",
      "metadata": {
        "id": "view-in-github",
        "colab_type": "text"
      },
      "source": [
        "<a href=\"https://colab.research.google.com/github/MeAmarP/opencv_snipps/blob/master/Helpful_Python_snippets_for_Image_Processing_using_OpenCV.ipynb\" target=\"_parent\"><img src=\"https://colab.research.google.com/assets/colab-badge.svg\" alt=\"Open In Colab\"/></a>"
      ]
    },
    {
      "cell_type": "code",
      "metadata": {
        "id": "aDGkbocQP3We",
        "colab_type": "code",
        "colab": {}
      },
      "source": [
        "import os\n",
        "import sys\n",
        "import cv2\n",
        "import matplotlib.pyplot as plt\n",
        "%matplotlib inline"
      ],
      "execution_count": 0,
      "outputs": []
    },
    {
      "cell_type": "code",
      "metadata": {
        "id": "3AbNHrHzP3Wo",
        "colab_type": "code",
        "outputId": "3f28bfcd-af02-4486-883f-20dc4c2c7c9b",
        "colab": {
          "base_uri": "https://localhost:8080/",
          "height": 69
        }
      },
      "source": [
        "print('OpenCV-Python Lib Version:', cv2.__version__)\n",
        "print('Python Version:',sys.version)"
      ],
      "execution_count": 2,
      "outputs": [
        {
          "output_type": "stream",
          "text": [
            "OpenCV-Python Lib Version: 3.4.3\n",
            "Python Version: 3.6.8 (default, Jan 14 2019, 11:02:34) \n",
            "[GCC 8.0.1 20180414 (experimental) [trunk revision 259383]]\n"
          ],
          "name": "stdout"
        }
      ]
    },
    {
      "cell_type": "markdown",
      "metadata": {
        "id": "SHx47TLPP3W1",
        "colab_type": "text"
      },
      "source": [
        "## Know about Image data and its representation.\n",
        "+ Read the given image\n",
        "+ Find out Image size, Image datatype Image.\n",
        "\n",
        "### Types of Images:\n",
        "+ Binary \n",
        "+ Grayscale \n",
        "+ True Color or RGB\n",
        "\n",
        "Note: RGB pixel format is quit standard among MATLAB or other image processing liberaies, but OpenCV uses BGR pixel format."
      ]
    },
    {
      "cell_type": "code",
      "metadata": {
        "id": "SkTMOQnuP3W3",
        "colab_type": "code",
        "outputId": "44a014da-f349-493b-d27d-3902bd284154",
        "colab": {
          "base_uri": "https://localhost:8080/",
          "height": 86
        }
      },
      "source": [
        "MainImgBin = cv2.imread('/content/cell_bin.png')\n",
        "MainImgBGR = cv2.imread('/content/fruitbowl_rgb.jpg')\n",
        "MainImgGray = cv2.imread('/content/alg_gry.jpg')\n",
        "\n",
        "print('DatatypeClass of Image:',type(MainImgBGR))\n",
        "print('Shape/Size of Binary Img:', MainImgBin.shape)\n",
        "print('Shape/Size of Gray Img:', MainImgGray.shape)\n",
        "print('Shape/Size of RGB Img:', MainImgBGR.shape)"
      ],
      "execution_count": 9,
      "outputs": [
        {
          "output_type": "stream",
          "text": [
            "DatatypeClass of Image: <class 'numpy.ndarray'>\n",
            "Shape/Size of Binary Img: (476, 638, 3)\n",
            "Shape/Size of Gray Img: (512, 512, 3)\n",
            "Shape/Size of RGB Img: (625, 960, 3)\n"
          ],
          "name": "stdout"
        }
      ]
    },
    {
      "cell_type": "markdown",
      "metadata": {
        "id": "bkl7nk6gP3XG",
        "colab_type": "text"
      },
      "source": [
        "## Types of Images\n",
        "+ Binary \n",
        "+ Grayscale \n",
        "+ True Color or RGB"
      ]
    },
    {
      "cell_type": "code",
      "metadata": {
        "id": "DQOL2L2yP3XT",
        "colab_type": "code",
        "colab": {}
      },
      "source": [
        ""
      ],
      "execution_count": 0,
      "outputs": []
    }
  ]
}