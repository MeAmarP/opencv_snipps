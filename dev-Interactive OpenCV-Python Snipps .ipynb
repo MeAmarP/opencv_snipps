{
 "cells": [
  {
   "cell_type": "code",
   "execution_count": 15,
   "metadata": {},
   "outputs": [],
   "source": [
    "import os\n",
    "import sys\n",
    "\n",
    "import numpy as np\n",
    "import cv2\n",
    "import skimage\n",
    "\n",
    "import ipywidgets as widgets\n",
    "from ipywidgets import interact, interact_manual\n",
    "\n",
    "import matplotlib.pyplot as plt\n",
    "%matplotlib inline"
   ]
  },
  {
   "cell_type": "code",
   "execution_count": 12,
   "metadata": {},
   "outputs": [
    {
     "data": {
      "text/plain": [
       "['.git',\n",
       " '.gitignore',\n",
       " '.ipynb_checkpoints',\n",
       " 'dev-Interactive OpenCV-Python Snipps .ipynb',\n",
       " 'guide.py',\n",
       " 'Helpful_Python_snippets_for_Image_Processing_using_OpenCV.ipynb',\n",
       " 'imgs',\n",
       " 'README.md']"
      ]
     },
     "execution_count": 12,
     "metadata": {},
     "output_type": "execute_result"
    }
   ],
   "source": [
    "os.listdir(os.getcwd())"
   ]
  },
  {
   "cell_type": "code",
   "execution_count": 8,
   "metadata": {
    "scrolled": true
   },
   "outputs": [
    {
     "name": "stdout",
     "output_type": "stream",
     "text": [
      "F:\\Dataset\\forFatNinja\\opencv_snipps\\alg_gry.jpg\n",
      "F:\\Dataset\\forFatNinja\\opencv_snipps\\bricks_in_wall_bin.tiff\n",
      "F:\\Dataset\\forFatNinja\\opencv_snipps\\cells_bin.png\n",
      "F:\\Dataset\\forFatNinja\\opencv_snipps\\fruitbowl_rgb.jpg\n",
      "F:\\Dataset\\forFatNinja\\opencv_snipps\\lena_gry.bmp\n",
      "F:\\Dataset\\forFatNinja\\opencv_snipps\\lun1_rgb.gif\n",
      "F:\\Dataset\\forFatNinja\\opencv_snipps\\skittle_rgb.tiff\n",
      "F:\\Dataset\\forFatNinja\\opencv_snipps\\tank_gry.tiff\n",
      "F:\\Dataset\\forFatNinja\\opencv_snipps\\Wb_girl_rgb.jpg\n"
     ]
    }
   ],
   "source": [
    "#Get all imgs in dir\n",
    "AllImgs = os.listdir(os.path.join(os.getcwd(),'imgs'))\n",
    "\n",
    "#Get absolute path to each file\n",
    "for img in AllImgs:\n",
    "    print(os.path.abspath(img))"
   ]
  },
  {
   "cell_type": "code",
   "execution_count": 37,
   "metadata": {},
   "outputs": [
    {
     "data": {
      "application/vnd.jupyter.widget-view+json": {
       "model_id": "480efa0cadca47a8898f7406254f07fa",
       "version_major": 2,
       "version_minor": 0
      },
      "text/plain": [
       "interactive(children=(Dropdown(description='logical_op', options=('and', 'or', 'xor', 'not'), value='and'), Bu…"
      ]
     },
     "metadata": {},
     "output_type": "display_data"
    }
   ],
   "source": [
    "#Logical/Bitwise Operations\n",
    "\n",
    "LogicalOps = ['and','or','xor','not']\n",
    "path_to_grayscale_img = 'imgs\\lena_gry.bmp'\n",
    "\n",
    "@interact_manual(logical_op=LogicalOps)\n",
    "def logicalops_on_img(logical_op):\n",
    "    img = cv2.imread(path_to_grayscale_img)\n",
    "    h,w,_ = img.shape\n",
    "    mask_img = np.concatenate((np.zeros(shape=[h,(w//3),3],dtype=np.uint8),\n",
    "                              np.ones(shape=[h,(w//3)+2,3],dtype=np.uint8)*127,\n",
    "                              np.ones(shape=[h,(w//3),3],dtype=np.uint8)*255),\n",
    "                              axis=1)\n",
    "    if logical_op == 'and':\n",
    "        print('Performed Bitwise AND')\n",
    "        result_img = cv2.bitwise_and(img,mask_img)        \n",
    "    elif logical_op == 'or':\n",
    "        print('Performed Bitwise OR')\n",
    "        result_img = cv2.bitwise_or(img,mask_img)\n",
    "    elif logical_op == 'xor':\n",
    "        print('Performed Bitwise XOR')\n",
    "        result_img = cv2.bitwise_xor(img,mask_img)\n",
    "    elif logical_op == 'not':\n",
    "        print('Performed Bitwise NOT')\n",
    "        result_img = cv2.bitwise_not(img)        \n",
    "    plt.figure(figsize=(10,10))\n",
    "    plt.subplot(131),plt.imshow(img,cmap='gray'),plt.title('Original',color='c')\n",
    "    plt.subplot(132),plt.imshow(mask_img,cmap='gray'),plt.title('Mask',color='c')\n",
    "    plt.subplot(133),plt.imshow(result_img,cmap='gray'),plt.title('Processed Image',color='c')\n",
    "    plt.show()\n",
    "\n",
    "\n",
    "# img = cv2.imread(path_to_grayscale_img)\n",
    "# h,w,_ = img.shape\n",
    "# mask_img = np.concatenate((np.zeros(shape=[h,(w//3),3],dtype=np.uint8),\n",
    "#                           np.ones(shape=[h,(w//3)+2,3],dtype=np.uint8)*127,\n",
    "#                           np.ones(shape=[h,(w//3),3],dtype=np.uint8)*255),\n",
    "#                           axis=1)\n",
    "# # mask_img.shape\n",
    "# result = cv2.bitwise_and(img,mask_img)\n",
    "\n",
    "# plt.figure(figsize=(10,10))\n",
    "# plt.subplot(131),plt.imshow(img,cmap='gray'),plt.title('Original',color='c')\n",
    "# plt.subplot(132),plt.imshow(mask_img,cmap='gray'),plt.title('Masked Image',color='c')\n",
    "# plt.subplot(133),plt.imshow(result,cmap='gray'),plt.title('Processed Image',color='c')\n",
    "# plt.show()"
   ]
  },
  {
   "cell_type": "code",
   "execution_count": 38,
   "metadata": {},
   "outputs": [
    {
     "data": {
      "application/vnd.jupyter.widget-view+json": {
       "model_id": "fe011e84704b474e8ead6dd5e8ebc129",
       "version_major": 2,
       "version_minor": 0
      },
      "text/plain": [
       "interactive(children=(IntSlider(value=10, description='angle_val', max=360, step=5), Button(description='Run I…"
      ]
     },
     "metadata": {},
     "output_type": "display_data"
    }
   ],
   "source": [
    "# Flip/Rotate Images\n",
    "\n",
    "@interact_manual(angle_val=widgets.IntSlider(min=0, max=360, step=5, value=10))\n",
    "def rotate_img(angle_val):\n",
    "    path_to_grayscale_img = 'imgs\\lena_gry.bmp'\n",
    "    scaleFactor = 1\n",
    "    img = cv2.imread(path_to_grayscale_img,cv2.IMREAD_UNCHANGED)\n",
    "    rows,cols = img.shape\n",
    "    imgCenter = (cols-1)/2.0,(rows-1)/2.0\n",
    "    #Calculate an affine matrix of 2D rotation. \n",
    "    rotateMat = cv2.getRotationMatrix2D(imgCenter,angle_val,scaleFactor)\n",
    "    # Apply an affine transformation to an image. \n",
    "    out_img = cv2.warpAffine(img,rotateMat,(cols,rows))\n",
    "    plt.figure(figsize=(10,10))\n",
    "    plt.subplot(1,2,1), plt.imshow(img,cmap='gray') ,plt.title('Original Image',color='c')\n",
    "    plt.subplot(1,2,2), plt.imshow(out_img,cmap='gray'), plt.title('Rotated Image',color='c')\n",
    "    plt.show()"
   ]
  },
  {
   "cell_type": "code",
   "execution_count": null,
   "metadata": {},
   "outputs": [],
   "source": []
  }
 ],
 "metadata": {
  "kernelspec": {
   "display_name": "Python 3",
   "language": "python",
   "name": "python3"
  },
  "language_info": {
   "codemirror_mode": {
    "name": "ipython",
    "version": 3
   },
   "file_extension": ".py",
   "mimetype": "text/x-python",
   "name": "python",
   "nbconvert_exporter": "python",
   "pygments_lexer": "ipython3",
   "version": "3.7.1"
  }
 },
 "nbformat": 4,
 "nbformat_minor": 2
}
